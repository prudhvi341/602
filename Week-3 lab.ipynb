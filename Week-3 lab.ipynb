{
 "cells": [
  {
   "cell_type": "markdown",
   "metadata": {},
   "source": [
    "# Week 3 Lab"
   ]
  },
  {
   "cell_type": "markdown",
   "metadata": {},
   "source": [
    "## Questions:\n",
    "- Differences between supervised and unsupervised learning?  \n",
    "- Differences between classification and regression?  \n",
    "- Classification and regression are the only types of supervised learning? "
   ]
  },
  {
   "cell_type": "markdown",
   "metadata": {},
   "source": []
  },
  {
   "cell_type": "markdown",
   "metadata": {},
   "source": [
    "Differences between supervised and unsupervised learning?"
   ]
  },
  {
   "cell_type": "markdown",
   "metadata": {},
   "source": [
    "Supervised and unsupervised learning are two main types of machine learning techniques. \n",
    "\n",
    "In supervised learning, the model is trained on a labeled dataset, where the correct output is provided for each input example. In contrast, unsupervised learning is used for unlabeled datasets, where the model must identify patterns and relationships in the data without any explicit guidance.\n",
    "In supervised learning, the dataset is labeled with the correct output, while in unsupervised learning, the dataset is unlabeled, and the model must find the underlying patterns on its own.\n",
    "The key difference between supervised and unsupervised learning is that supervised learning requires labeled training data with explicit output values, while unsupervised learning works with unlabeled data and aims to identify patterns and structure in the data without any explicit guidance.\n",
    "\n"
   ]
  },
  {
   "cell_type": "markdown",
   "metadata": {},
   "source": [
    "Differences between classification and regression?"
   ]
  },
  {
   "cell_type": "markdown",
   "metadata": {},
   "source": [
    "Classification:\n",
    "    Classification gives out discrete values.\n",
    "    Given a group of data, this method helps group the data into different groups.\n",
    "    In classification, the nature of the predicted data is unordered.\n",
    "    The mapping function is used to map values to pre−defined classes.\n",
    "    Example:Decision tree, logistic regression.\n",
    "    Classification is done by measuring the accuracy.\n",
    "\n",
    "Regression:\n",
    "    Regression gives continuous values.\n",
    "    It uses the mapping function to map values to continuous output.\n",
    "    Regression has ordered predicted data.\n",
    "    It attempts to find a best fit line. It tries to extrapolate the graph to find/predict the values.\n",
    "    Examples: Regression tree ,Linear regression\n",
    "    Regression is done using the root mean square error method.\n",
    "\n",
    "        \n",
    "\n",
    "    "
   ]
  },
  {
   "cell_type": "markdown",
   "metadata": {},
   "source": [
    "Classification and regression are the only types of supervised learning?"
   ]
  },
  {
   "cell_type": "markdown",
   "metadata": {},
   "source": [
    "No, classification and regression are not the only types of supervised learning. There are other types of supervised learning as well, including:\n",
    "\n",
    "Time series forecasting: This involves predicting future values of a continuous variable over time, based on past values of the variable.\n",
    "\n",
    "Sequence labeling: This involves predicting a sequence of labels for a sequence of input data, such as in speech recognition or natural language processing.\n",
    "\n",
    "Object detection: This involves identifying the presence and location of objects in an image or video, and assigning a label to each object.\n",
    "\n",
    "Recommendation systems: This involves predicting user preferences or ratings for items such as movies or products, based on their past behavior or characteristics.\n",
    "\n",
    "Multi-task learning: This involves training a model to perform multiple related tasks simultaneously, such as predicting the price and location of a house based on its features.\n",
    "\n",
    "\n",
    "\n",
    "\n"
   ]
  }
 ],
 "metadata": {
  "kernelspec": {
   "display_name": "Python 3",
   "language": "python",
   "name": "python3"
  },
  "language_info": {
   "codemirror_mode": {
    "name": "ipython",
    "version": 3
   },
   "file_extension": ".py",
   "mimetype": "text/x-python",
   "name": "python",
   "nbconvert_exporter": "python",
   "pygments_lexer": "ipython3",
   "version": "3.8.5"
  },
  "toc": {
   "base_numbering": 1,
   "nav_menu": {},
   "number_sections": true,
   "sideBar": true,
   "skip_h1_title": false,
   "title_cell": "Table of Contents",
   "title_sidebar": "Contents",
   "toc_cell": false,
   "toc_position": {},
   "toc_section_display": true,
   "toc_window_display": false
  }
 },
 "nbformat": 4,
 "nbformat_minor": 5
}
