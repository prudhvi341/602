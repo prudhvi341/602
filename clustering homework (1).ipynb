{
 "cells": [
  {
   "cell_type": "markdown",
   "metadata": {},
   "source": [
    "# Clustering Homework\n",
    "- Execute the below code and complete the following questions. __DO NOT commit the csv file__ "
   ]
  },
  {
   "cell_type": "code",
   "execution_count": 1,
   "metadata": {},
   "outputs": [],
   "source": [
    "import pandas as pd\n",
    "from sklearn.datasets import make_classification\n",
    "import numpy as np\n",
    "\n",
    "def generate_data():\n",
    "    X, y = make_classification(n_samples=4000, \n",
    "                          n_features=50, \n",
    "                          n_redundant=30, \n",
    "                          n_repeated=2,\n",
    "                          n_classes=2,\n",
    "                          n_clusters_per_class=1,\n",
    "                          class_sep = 0.9,\n",
    "                          random_state = 1200,\n",
    "                          scale=1\n",
    "                         )\n",
    "\n",
    "    colNames = ['var'+str(x) for x in range(50)]\n",
    "    colNames.append('target')\n",
    "\n",
    "    df = pd.DataFrame(np.concatenate((X,y.reshape(-1,1)), axis=1), columns=colNames)\n",
    "    \n",
    "    df['var0'] = np.where(df['var0'] < 0, 'a', np.where(df['var0'] < 0.5, 'b', 'c'))\n",
    "    df['var1'] = np.where(df['var1'] < -.5, 'd', np.where(df['var1'] < 0.4, 'e', 'f'))\n",
    "    df['var2'] = np.where(df['var2'] < 0, 'g', np.where(df['var2'] < 0.5, 'h', 'i'))\n",
    "\n",
    "    df.to_csv('clustering-data.csv', index=False)\n",
    "\n",
    "generate_data()"
   ]
  },
  {
   "cell_type": "code",
   "execution_count": 2,
   "metadata": {},
   "outputs": [
    {
     "data": {
      "text/html": [
       "<div>\n",
       "<style scoped>\n",
       "    .dataframe tbody tr th:only-of-type {\n",
       "        vertical-align: middle;\n",
       "    }\n",
       "\n",
       "    .dataframe tbody tr th {\n",
       "        vertical-align: top;\n",
       "    }\n",
       "\n",
       "    .dataframe thead th {\n",
       "        text-align: right;\n",
       "    }\n",
       "</style>\n",
       "<table border=\"1\" class=\"dataframe\">\n",
       "  <thead>\n",
       "    <tr style=\"text-align: right;\">\n",
       "      <th></th>\n",
       "      <th>var0</th>\n",
       "      <th>var1</th>\n",
       "      <th>var2</th>\n",
       "      <th>var3</th>\n",
       "      <th>var4</th>\n",
       "      <th>var5</th>\n",
       "      <th>var6</th>\n",
       "      <th>var7</th>\n",
       "      <th>var8</th>\n",
       "      <th>var9</th>\n",
       "      <th>...</th>\n",
       "      <th>var41</th>\n",
       "      <th>var42</th>\n",
       "      <th>var43</th>\n",
       "      <th>var44</th>\n",
       "      <th>var45</th>\n",
       "      <th>var46</th>\n",
       "      <th>var47</th>\n",
       "      <th>var48</th>\n",
       "      <th>var49</th>\n",
       "      <th>target</th>\n",
       "    </tr>\n",
       "  </thead>\n",
       "  <tbody>\n",
       "    <tr>\n",
       "      <th>0</th>\n",
       "      <td>a</td>\n",
       "      <td>d</td>\n",
       "      <td>g</td>\n",
       "      <td>-0.396805</td>\n",
       "      <td>0.678895</td>\n",
       "      <td>0.726830</td>\n",
       "      <td>-0.640008</td>\n",
       "      <td>-1.039820</td>\n",
       "      <td>-0.934986</td>\n",
       "      <td>-0.098290</td>\n",
       "      <td>...</td>\n",
       "      <td>-0.268735</td>\n",
       "      <td>0.070548</td>\n",
       "      <td>0.808570</td>\n",
       "      <td>1.523755</td>\n",
       "      <td>-0.497207</td>\n",
       "      <td>0.470146</td>\n",
       "      <td>1.095665</td>\n",
       "      <td>-0.339445</td>\n",
       "      <td>0.470146</td>\n",
       "      <td>1.0</td>\n",
       "    </tr>\n",
       "    <tr>\n",
       "      <th>1</th>\n",
       "      <td>a</td>\n",
       "      <td>d</td>\n",
       "      <td>i</td>\n",
       "      <td>-0.991416</td>\n",
       "      <td>2.359730</td>\n",
       "      <td>-0.993249</td>\n",
       "      <td>-2.486560</td>\n",
       "      <td>-3.793524</td>\n",
       "      <td>-3.316669</td>\n",
       "      <td>-0.456288</td>\n",
       "      <td>...</td>\n",
       "      <td>0.500165</td>\n",
       "      <td>0.348498</td>\n",
       "      <td>3.031635</td>\n",
       "      <td>-0.996257</td>\n",
       "      <td>-1.832063</td>\n",
       "      <td>1.907786</td>\n",
       "      <td>4.046193</td>\n",
       "      <td>-1.076047</td>\n",
       "      <td>1.907786</td>\n",
       "      <td>0.0</td>\n",
       "    </tr>\n",
       "    <tr>\n",
       "      <th>2</th>\n",
       "      <td>a</td>\n",
       "      <td>d</td>\n",
       "      <td>g</td>\n",
       "      <td>-2.075731</td>\n",
       "      <td>0.544290</td>\n",
       "      <td>-0.854121</td>\n",
       "      <td>-0.615142</td>\n",
       "      <td>-0.903471</td>\n",
       "      <td>-0.775623</td>\n",
       "      <td>-0.123449</td>\n",
       "      <td>...</td>\n",
       "      <td>0.207872</td>\n",
       "      <td>0.096783</td>\n",
       "      <td>0.734387</td>\n",
       "      <td>0.564490</td>\n",
       "      <td>-0.439069</td>\n",
       "      <td>0.483492</td>\n",
       "      <td>0.971048</td>\n",
       "      <td>-0.231717</td>\n",
       "      <td>0.483492</td>\n",
       "      <td>0.0</td>\n",
       "    </tr>\n",
       "    <tr>\n",
       "      <th>3</th>\n",
       "      <td>b</td>\n",
       "      <td>e</td>\n",
       "      <td>i</td>\n",
       "      <td>0.330885</td>\n",
       "      <td>1.100425</td>\n",
       "      <td>1.468506</td>\n",
       "      <td>0.456396</td>\n",
       "      <td>-0.663287</td>\n",
       "      <td>-1.134611</td>\n",
       "      <td>0.494358</td>\n",
       "      <td>...</td>\n",
       "      <td>0.963910</td>\n",
       "      <td>-0.474539</td>\n",
       "      <td>0.049557</td>\n",
       "      <td>-0.169026</td>\n",
       "      <td>-0.213812</td>\n",
       "      <td>-0.798086</td>\n",
       "      <td>0.419922</td>\n",
       "      <td>-1.142086</td>\n",
       "      <td>-0.798086</td>\n",
       "      <td>1.0</td>\n",
       "    </tr>\n",
       "    <tr>\n",
       "      <th>4</th>\n",
       "      <td>a</td>\n",
       "      <td>d</td>\n",
       "      <td>h</td>\n",
       "      <td>2.245218</td>\n",
       "      <td>1.039071</td>\n",
       "      <td>0.481155</td>\n",
       "      <td>-1.373746</td>\n",
       "      <td>-1.861215</td>\n",
       "      <td>-1.531545</td>\n",
       "      <td>-0.322933</td>\n",
       "      <td>...</td>\n",
       "      <td>0.040232</td>\n",
       "      <td>0.263376</td>\n",
       "      <td>1.570320</td>\n",
       "      <td>0.212608</td>\n",
       "      <td>-0.917244</td>\n",
       "      <td>1.131278</td>\n",
       "      <td>2.034796</td>\n",
       "      <td>-0.363342</td>\n",
       "      <td>1.131278</td>\n",
       "      <td>0.0</td>\n",
       "    </tr>\n",
       "  </tbody>\n",
       "</table>\n",
       "<p>5 rows × 51 columns</p>\n",
       "</div>"
      ],
      "text/plain": [
       "  var0 var1 var2      var3      var4      var5      var6      var7      var8  \\\n",
       "0    a    d    g -0.396805  0.678895  0.726830 -0.640008 -1.039820 -0.934986   \n",
       "1    a    d    i -0.991416  2.359730 -0.993249 -2.486560 -3.793524 -3.316669   \n",
       "2    a    d    g -2.075731  0.544290 -0.854121 -0.615142 -0.903471 -0.775623   \n",
       "3    b    e    i  0.330885  1.100425  1.468506  0.456396 -0.663287 -1.134611   \n",
       "4    a    d    h  2.245218  1.039071  0.481155 -1.373746 -1.861215 -1.531545   \n",
       "\n",
       "       var9  ...     var41     var42     var43     var44     var45     var46  \\\n",
       "0 -0.098290  ... -0.268735  0.070548  0.808570  1.523755 -0.497207  0.470146   \n",
       "1 -0.456288  ...  0.500165  0.348498  3.031635 -0.996257 -1.832063  1.907786   \n",
       "2 -0.123449  ...  0.207872  0.096783  0.734387  0.564490 -0.439069  0.483492   \n",
       "3  0.494358  ...  0.963910 -0.474539  0.049557 -0.169026 -0.213812 -0.798086   \n",
       "4 -0.322933  ...  0.040232  0.263376  1.570320  0.212608 -0.917244  1.131278   \n",
       "\n",
       "      var47     var48     var49  target  \n",
       "0  1.095665 -0.339445  0.470146     1.0  \n",
       "1  4.046193 -1.076047  1.907786     0.0  \n",
       "2  0.971048 -0.231717  0.483492     0.0  \n",
       "3  0.419922 -1.142086 -0.798086     1.0  \n",
       "4  2.034796 -0.363342  1.131278     0.0  \n",
       "\n",
       "[5 rows x 51 columns]"
      ]
     },
     "execution_count": 2,
     "metadata": {},
     "output_type": "execute_result"
    }
   ],
   "source": [
    "import pandas as pd\n",
    "import numpy as np\n",
    "import matplotlib.pyplot as plt\n",
    "\n",
    "df = pd.read_csv('clustering-data.csv')\n",
    "df.head()"
   ]
  },
  {
   "cell_type": "code",
   "execution_count": 3,
   "metadata": {},
   "outputs": [
    {
     "name": "stdout",
     "output_type": "stream",
     "text": [
      "<class 'pandas.core.frame.DataFrame'>\n",
      "RangeIndex: 4000 entries, 0 to 3999\n",
      "Data columns (total 51 columns):\n",
      " #   Column  Non-Null Count  Dtype  \n",
      "---  ------  --------------  -----  \n",
      " 0   var0    4000 non-null   object \n",
      " 1   var1    4000 non-null   object \n",
      " 2   var2    4000 non-null   object \n",
      " 3   var3    4000 non-null   float64\n",
      " 4   var4    4000 non-null   float64\n",
      " 5   var5    4000 non-null   float64\n",
      " 6   var6    4000 non-null   float64\n",
      " 7   var7    4000 non-null   float64\n",
      " 8   var8    4000 non-null   float64\n",
      " 9   var9    4000 non-null   float64\n",
      " 10  var10   4000 non-null   float64\n",
      " 11  var11   4000 non-null   float64\n",
      " 12  var12   4000 non-null   float64\n",
      " 13  var13   4000 non-null   float64\n",
      " 14  var14   4000 non-null   float64\n",
      " 15  var15   4000 non-null   float64\n",
      " 16  var16   4000 non-null   float64\n",
      " 17  var17   4000 non-null   float64\n",
      " 18  var18   4000 non-null   float64\n",
      " 19  var19   4000 non-null   float64\n",
      " 20  var20   4000 non-null   float64\n",
      " 21  var21   4000 non-null   float64\n",
      " 22  var22   4000 non-null   float64\n",
      " 23  var23   4000 non-null   float64\n",
      " 24  var24   4000 non-null   float64\n",
      " 25  var25   4000 non-null   float64\n",
      " 26  var26   4000 non-null   float64\n",
      " 27  var27   4000 non-null   float64\n",
      " 28  var28   4000 non-null   float64\n",
      " 29  var29   4000 non-null   float64\n",
      " 30  var30   4000 non-null   float64\n",
      " 31  var31   4000 non-null   float64\n",
      " 32  var32   4000 non-null   float64\n",
      " 33  var33   4000 non-null   float64\n",
      " 34  var34   4000 non-null   float64\n",
      " 35  var35   4000 non-null   float64\n",
      " 36  var36   4000 non-null   float64\n",
      " 37  var37   4000 non-null   float64\n",
      " 38  var38   4000 non-null   float64\n",
      " 39  var39   4000 non-null   float64\n",
      " 40  var40   4000 non-null   float64\n",
      " 41  var41   4000 non-null   float64\n",
      " 42  var42   4000 non-null   float64\n",
      " 43  var43   4000 non-null   float64\n",
      " 44  var44   4000 non-null   float64\n",
      " 45  var45   4000 non-null   float64\n",
      " 46  var46   4000 non-null   float64\n",
      " 47  var47   4000 non-null   float64\n",
      " 48  var48   4000 non-null   float64\n",
      " 49  var49   4000 non-null   float64\n",
      " 50  target  4000 non-null   float64\n",
      "dtypes: float64(48), object(3)\n",
      "memory usage: 1.6+ MB\n"
     ]
    }
   ],
   "source": [
    "df.info()"
   ]
  },
  {
   "cell_type": "markdown",
   "metadata": {},
   "source": [
    "# Data Definitions\n",
    "- `var0` - `var49`: some feature that could be used to describe the `target`.  \n",
    "- `target`: variable that contains the classes. This is your target variable."
   ]
  },
  {
   "cell_type": "code",
   "execution_count": 4,
   "metadata": {},
   "outputs": [
    {
     "data": {
      "image/png": "[encoded data removed]",
      "text/plain": [
       "<Figure size 432x288 with 1 Axes>"
      ]
     },
     "metadata": {
      "needs_background": "light"
     },
     "output_type": "display_data"
    }
   ],
   "source": [
    "df.target.value_counts().plot.bar()\n",
    "plt.title('Distribution of Target', loc='left')\n",
    "plt.show()"
   ]
  },
  {
   "cell_type": "code",
   "execution_count": 5,
   "metadata": {},
   "outputs": [
    {
     "name": "stdout",
     "output_type": "stream",
     "text": [
      "Training examples: 3200\n",
      "Test examples: 800\n",
      "\n",
      "Feature names:\n",
      "var0\tvar1\tvar2\tvar3\tvar4\tvar5\tvar6\tvar7\tvar8\tvar9\tvar10\tvar11\tvar12\tvar13\tvar14\tvar15\tvar16\tvar17\tvar18\tvar19\tvar20\tvar21\tvar22\tvar23\tvar24\tvar25\tvar26\tvar27\tvar28\tvar29\tvar30\tvar31\tvar32\tvar33\tvar34\tvar35\tvar36\tvar37\tvar38\tvar39\tvar40\tvar41\tvar42\tvar43\tvar44\tvar45\tvar46\tvar47\tvar48\tvar49\n"
     ]
    }
   ],
   "source": [
    "from sklearn.model_selection import train_test_split\n",
    "X = df[[x for x in df.columns if x != 'target']]\n",
    "y = df['target']\n",
    "\n",
    "X_train, X_test, y_train, y_test = train_test_split(X, y, test_size=0.2, random_state=2303)\n",
    "\n",
    "print(f'Training examples: {X_train.shape[0]}')\n",
    "print(f'Test examples: {X_test.shape[0]}')\n",
    "print('\\nFeature names:')\n",
    "print(*X.columns, sep='\\t')"
   ]
  },
  {
   "cell_type": "markdown",
   "metadata": {},
   "source": [
    "# Question 1\n",
    "- Using `X_train`, you will perform k-means clustering using best practices.  \n",
    "- Determine what the \"optimum\" number of clusters is - support your answer.  \n",
    "- Visualize the results of your clustering using PCA.\n",
    "- Based on the visualization, how do you interpret the clustering result?"
   ]
  },
  {
   "cell_type": "code",
   "execution_count": 10,
   "metadata": {},
   "outputs": [],
   "source": [
    "from sklearn.preprocessing import StandardScaler, OneHotEncoder\n",
    "from sklearn.cluster import KMeans\n",
    "from sklearn.decomposition import PCA\n",
    "import matplotlib.pyplot as plt\n",
    "from sklearn.metrics import silhouette_score\n"
   ]
  },
  {
   "cell_type": "code",
   "execution_count": 11,
   "metadata": {},
   "outputs": [],
   "source": [
    "# One-hot encode the categorical features\n",
    "encoder = OneHotEncoder(sparse=False)\n",
    "cat_features = X_train.iloc[:,:3]\n",
    "num_features = X_train.iloc[:,3:]\n",
    "cat_encoded = encoder.fit_transform(cat_features)\n",
    "\n",
    "# Combine the encoded categorical features and numerical features\n",
    "X_data_combined = np.concatenate((cat_encoded, num_features), axis=1)"
   ]
  },
  {
   "cell_type": "code",
   "execution_count": 8,
   "metadata": {},
   "outputs": [
    {
     "ename": "TypeError",
     "evalue": "'<=' not supported between instances of 'str' and 'int'",
     "output_type": "error",
     "traceback": [
      "\u001b[1;31m---------------------------------------------------------------------------\u001b[0m",
      "\u001b[1;31mTypeError\u001b[0m                                 Traceback (most recent call last)",
      "\u001b[1;32m<ipython-input-8-36d49cb0ee28>\u001b[0m in \u001b[0;36m<module>\u001b[1;34m\u001b[0m\n\u001b[0;32m      8\u001b[0m \u001b[1;32mfor\u001b[0m \u001b[0mk\u001b[0m \u001b[1;32min\u001b[0m \u001b[0mrange\u001b[0m\u001b[1;33m(\u001b[0m\u001b[1;36m2\u001b[0m\u001b[1;33m,\u001b[0m \u001b[1;36m11\u001b[0m\u001b[1;33m)\u001b[0m\u001b[1;33m:\u001b[0m\u001b[1;33m\u001b[0m\u001b[1;33m\u001b[0m\u001b[0m\n\u001b[0;32m      9\u001b[0m     \u001b[0mkmeans\u001b[0m \u001b[1;33m=\u001b[0m \u001b[0mKMeans\u001b[0m\u001b[1;33m(\u001b[0m\u001b[0mn_clusters\u001b[0m\u001b[1;33m=\u001b[0m\u001b[0mk\u001b[0m\u001b[1;33m,\u001b[0m \u001b[0mrandom_state\u001b[0m\u001b[1;33m=\u001b[0m\u001b[1;36m42\u001b[0m\u001b[1;33m,\u001b[0m \u001b[0mn_init\u001b[0m\u001b[1;33m=\u001b[0m\u001b[1;34m'auto'\u001b[0m\u001b[1;33m)\u001b[0m\u001b[1;33m\u001b[0m\u001b[1;33m\u001b[0m\u001b[0m\n\u001b[1;32m---> 10\u001b[1;33m     \u001b[0mkmeans\u001b[0m\u001b[1;33m.\u001b[0m\u001b[0mfit\u001b[0m\u001b[1;33m(\u001b[0m\u001b[0mX_scaled\u001b[0m\u001b[1;33m)\u001b[0m\u001b[1;33m\u001b[0m\u001b[1;33m\u001b[0m\u001b[0m\n\u001b[0m\u001b[0;32m     11\u001b[0m     \u001b[0minertias\u001b[0m\u001b[1;33m.\u001b[0m\u001b[0mappend\u001b[0m\u001b[1;33m(\u001b[0m\u001b[0mkmeans\u001b[0m\u001b[1;33m.\u001b[0m\u001b[0minertia_\u001b[0m\u001b[1;33m)\u001b[0m\u001b[1;33m\u001b[0m\u001b[1;33m\u001b[0m\u001b[0m\n\u001b[0;32m     12\u001b[0m     \u001b[0msilhouette_scores\u001b[0m\u001b[1;33m.\u001b[0m\u001b[0mappend\u001b[0m\u001b[1;33m(\u001b[0m\u001b[0msilhouette_score\u001b[0m\u001b[1;33m(\u001b[0m\u001b[0mX_scaled\u001b[0m\u001b[1;33m,\u001b[0m \u001b[0mkmeans\u001b[0m\u001b[1;33m.\u001b[0m\u001b[0mlabels_\u001b[0m\u001b[1;33m)\u001b[0m\u001b[1;33m)\u001b[0m\u001b[1;33m\u001b[0m\u001b[1;33m\u001b[0m\u001b[0m\n",
      "\u001b[1;32m~\\anaconda3\\lib\\site-packages\\sklearn\\cluster\\_kmeans.py\u001b[0m in \u001b[0;36mfit\u001b[1;34m(self, X, y, sample_weight)\u001b[0m\n\u001b[0;32m   1033\u001b[0m                                 accept_large_sparse=False)\n\u001b[0;32m   1034\u001b[0m \u001b[1;33m\u001b[0m\u001b[0m\n\u001b[1;32m-> 1035\u001b[1;33m         \u001b[0mself\u001b[0m\u001b[1;33m.\u001b[0m\u001b[0m_check_params\u001b[0m\u001b[1;33m(\u001b[0m\u001b[0mX\u001b[0m\u001b[1;33m)\u001b[0m\u001b[1;33m\u001b[0m\u001b[1;33m\u001b[0m\u001b[0m\n\u001b[0m\u001b[0;32m   1036\u001b[0m         \u001b[0mrandom_state\u001b[0m \u001b[1;33m=\u001b[0m \u001b[0mcheck_random_state\u001b[0m\u001b[1;33m(\u001b[0m\u001b[0mself\u001b[0m\u001b[1;33m.\u001b[0m\u001b[0mrandom_state\u001b[0m\u001b[1;33m)\u001b[0m\u001b[1;33m\u001b[0m\u001b[1;33m\u001b[0m\u001b[0m\n\u001b[0;32m   1037\u001b[0m \u001b[1;33m\u001b[0m\u001b[0m\n",
      "\u001b[1;32m~\\anaconda3\\lib\\site-packages\\sklearn\\cluster\\_kmeans.py\u001b[0m in \u001b[0;36m_check_params\u001b[1;34m(self, X)\u001b[0m\n\u001b[0;32m    944\u001b[0m \u001b[1;33m\u001b[0m\u001b[0m\n\u001b[0;32m    945\u001b[0m         \u001b[1;31m# n_init\u001b[0m\u001b[1;33m\u001b[0m\u001b[1;33m\u001b[0m\u001b[1;33m\u001b[0m\u001b[0m\n\u001b[1;32m--> 946\u001b[1;33m         \u001b[1;32mif\u001b[0m \u001b[0mself\u001b[0m\u001b[1;33m.\u001b[0m\u001b[0mn_init\u001b[0m \u001b[1;33m<=\u001b[0m \u001b[1;36m0\u001b[0m\u001b[1;33m:\u001b[0m\u001b[1;33m\u001b[0m\u001b[1;33m\u001b[0m\u001b[0m\n\u001b[0m\u001b[0;32m    947\u001b[0m             raise ValueError(\n\u001b[0;32m    948\u001b[0m                 f\"n_init should be > 0, got {self.n_init} instead.\")\n",
      "\u001b[1;31mTypeError\u001b[0m: '<=' not supported between instances of 'str' and 'int'"
     ]
    }
   ],
   "source": [
    "# Scale the features\n",
    "scaler = StandardScaler()\n",
    "X_scaled = scaler.fit_transform(X_data_combined)\n",
    "\n",
    "# Determine the optimum number of clusters\n",
    "inertias = []\n",
    "silhouette_scores = []\n",
    "for k in range(2, 11):\n",
    "    kmeans = KMeans(n_clusters=k, random_state=42, n_init='auto')\n",
    "    kmeans.fit(X_scaled)\n",
    "    inertias.append(kmeans.inertia_)\n",
    "    silhouette_scores.append(silhouette_score(X_scaled, kmeans.labels_))\n",
    "    \n",
    "# Plot the elbow curve\n",
    "plt.plot(range(2, 11), inertias, marker='o')\n",
    "plt.xlabel('Number of clusters')\n",
    "plt.ylabel('Inertia')\n",
    "plt.title('Elbow Curve')\n",
    "plt.show()\n",
    "\n",
    "# Plot the silhouette score curve\n",
    "plt.plot(range(2, 11), silhouette_scores, marker='o')\n",
    "plt.xlabel('Number of clusters')\n",
    "plt.ylabel('Silhouette Score')\n",
    "plt.title('Silhouette Score Curve')\n",
    "plt.show()\n"
   ]
  },
  {
   "cell_type": "code",
   "execution_count": 12,
   "metadata": {},
   "outputs": [
    {
     "data": {
      "image/png": "[encoded data removed]",
      "text/plain": [
       "<Figure size 432x288 with 1 Axes>"
      ]
     },
     "metadata": {
      "needs_background": "light"
     },
     "output_type": "display_data"
    }
   ],
   "source": [
    "# Apply k-means clustering with the optimum number of clusters\n",
    "kmeans = KMeans(n_clusters=2, random_state=42)\n",
    "kmeans.fit(X_scaled)\n",
    "labels = kmeans.labels_\n",
    "\n",
    "# Visualize the clustering results using PCA\n",
    "pca = PCA(n_components=2)\n",
    "X_pca = pca.fit_transform(X_scaled)\n",
    "\n",
    "plt.scatter(X_pca[:, 0], X_pca[:, 1], c=labels)\n",
    "plt.xlabel('PC1')\n",
    "plt.ylabel('PC2')\n",
    "plt.title('Clustering Results')\n",
    "plt.show()"
   ]
  },
  {
   "cell_type": "markdown",
   "metadata": {},
   "source": [
    "In this case, both curves suggest that the optimum number of clusters is 2. Therefore, we apply k-means clustering with 2 clusters and visualize the results using PCA. The PCA plot shows that the clustering separates the data points into 2 distinct groups."
   ]
  },
  {
   "cell_type": "markdown",
   "metadata": {},
   "source": [
    "Insert conclusions"
   ]
  },
  {
   "cell_type": "markdown",
   "metadata": {},
   "source": [
    "# Question 2\n",
    "- Using `X_train` and `y_train`, create a logistic regression model. Then evaluate the performance on the test data. The only preprocessing steps you should include are scaling and one hot encoding.    \n",
    "- Using cross-validation and grid search on the regularization strength using best practices.\n",
    "- Provide a ROC chart and provide accuracy, precision, and recall.  \n",
    "- What is your opinion of the model's performance?"
   ]
  },
  {
   "cell_type": "code",
   "execution_count": 13,
   "metadata": {},
   "outputs": [
    {
     "data": {
      "text/plain": [
       "Index(['var0', 'var1', 'var2', 'var3', 'var4', 'var5', 'var6', 'var7', 'var8',\n",
       "       'var9', 'var10', 'var11', 'var12', 'var13', 'var14', 'var15', 'var16',\n",
       "       'var17', 'var18', 'var19', 'var20', 'var21', 'var22', 'var23', 'var24',\n",
       "       'var25', 'var26', 'var27', 'var28', 'var29', 'var30', 'var31', 'var32',\n",
       "       'var33', 'var34', 'var35', 'var36', 'var37', 'var38', 'var39', 'var40',\n",
       "       'var41', 'var42', 'var43', 'var44', 'var45', 'var46', 'var47', 'var48',\n",
       "       'var49'],\n",
       "      dtype='object')"
      ]
     },
     "execution_count": 13,
     "metadata": {},
     "output_type": "execute_result"
    }
   ],
   "source": [
    "X_train.columns"
   ]
  },
  {
   "cell_type": "code",
   "execution_count": 14,
   "metadata": {},
   "outputs": [
    {
     "data": {
      "image/png": "[encoded data removed]",
      "text/plain": [
       "<Figure size 432x288 with 1 Axes>"
      ]
     },
     "metadata": {
      "needs_background": "light"
     },
     "output_type": "display_data"
    },
    {
     "name": "stdout",
     "output_type": "stream",
     "text": [
      "Accuracy: 0.93\n",
      "Precision: 0.9943502824858758\n",
      "Recall: 0.8669950738916257\n"
     ]
    }
   ],
   "source": [
    "# Insert Code\n",
    "from sklearn.linear_model import LogisticRegression\n",
    "from sklearn.compose import ColumnTransformer\n",
    "from sklearn.pipeline import Pipeline\n",
    "from sklearn.model_selection import GridSearchCV\n",
    "from sklearn.metrics import accuracy_score, precision_score, recall_score, roc_curve, roc_auc_score\n",
    "\n",
    "# Define the columns to be one hot encoded\n",
    "categorical_cols = X_train.columns[:3]\n",
    "numerical_cols = X_train.columns[3:]\n",
    "\n",
    "# Define the column transformer\n",
    "ct = ColumnTransformer(\n",
    "    transformers=[\n",
    "        ('one_hot', OneHotEncoder(), categorical_cols),\n",
    "        ('scaling', StandardScaler(), numerical_cols)\n",
    "    ])\n",
    "\n",
    "# Define the pipeline\n",
    "pipeline = Pipeline([\n",
    "    ('transformer', ct),\n",
    "    ('log_reg', LogisticRegression(max_iter=1000))])\n",
    "\n",
    "# Define the hyperparameters to be tuned\n",
    "hyperparameters = {'log_reg__C': [0.001, 0.01, 0.1, 1, 10, 100]}\n",
    "\n",
    "# Perform grid search with cross-validation\n",
    "grid_search2 = GridSearchCV(pipeline, hyperparameters, cv=5, n_jobs=-1)\n",
    "grid_search2.fit(X_train, y_train)\n",
    "\n",
    "# Evaluate the performance of the model on the test data\n",
    "y_pred = grid_search2.predict(X_test)\n",
    "accuracy = accuracy_score(y_test, y_pred)\n",
    "precision = precision_score(y_test, y_pred)\n",
    "recall = recall_score(y_test, y_pred)\n",
    "roc_auc = roc_auc_score(y_test, y_pred)\n",
    "fpr, tpr, thresholds = roc_curve(y_test, y_pred)\n",
    "\n",
    "# Plot the ROC curve\n",
    "plt.plot(fpr, tpr, label='ROC curve (area = %0.2f)' % roc_auc)\n",
    "plt.plot([0, 1], [0, 1], 'k--')\n",
    "plt.xlim([0.0, 1.0])\n",
    "plt.ylim([0.0, 1.05])\n",
    "plt.xlabel('False Positive Rate')\n",
    "plt.ylabel('True Positive Rate')\n",
    "plt.title('Receiver operating characteristic')\n",
    "plt.legend(loc=\"lower right\")\n",
    "plt.show()\n",
    "\n",
    "# Print the evaluation metrics\n",
    "print('Accuracy:', accuracy)\n",
    "print('Precision:', precision)\n",
    "print('Recall:', recall)\n"
   ]
  },
  {
   "cell_type": "markdown",
   "metadata": {},
   "source": [
    "Insert conclusions\n",
    "with logistic regression there is an accuracy of 93 percent with very good precesion and decent recall. the area under curve is 0.93 "
   ]
  },
  {
   "cell_type": "markdown",
   "metadata": {},
   "source": [
    "# Question 3\n",
    "- Using `X_train` and `y_train`, create a logistic regression model, that includes a pipeline step that uses PCA.  \n",
    "- Perform a grid search on various number of components and regularization strengths using best practices.\n",
    "- Provide a ROC chart and provide accuracy, precision, and recall.  \n",
    "- What is your opinion of the model's performance?"
   ]
  },
  {
   "cell_type": "code",
   "execution_count": 15,
   "metadata": {},
   "outputs": [
    {
     "data": {
      "image/png": "[encoded data removed]",
      "text/plain": [
       "<Figure size 432x288 with 1 Axes>"
      ]
     },
     "metadata": {
      "needs_background": "light"
     },
     "output_type": "display_data"
    },
    {
     "name": "stdout",
     "output_type": "stream",
     "text": [
      "Accuracy: 0.93125\n",
      "Precision: 0.9915966386554622\n",
      "Recall: 0.8719211822660099\n"
     ]
    }
   ],
   "source": [
    "# Insert code\n",
    "\n",
    "# Define the column transformer\n",
    "ct = ColumnTransformer(\n",
    "    transformers=[\n",
    "        ('one_hot', OneHotEncoder(), categorical_cols),\n",
    "        ('scaling', StandardScaler(), numerical_cols)\n",
    "    ])\n",
    "\n",
    "# Define the pipeline with PCA\n",
    "pipeline = Pipeline([\n",
    "    ('transformer', ct),\n",
    "    ('pca', PCA(n_components=2)),\n",
    "    ('log_reg', LogisticRegression(max_iter=1000))])\n",
    "\n",
    "# Define the hyperparameters to be tuned\n",
    "hyperparameters = {\n",
    "    'pca__n_components': [2, 3, 4], \n",
    "    'log_reg__C': [0.001, 0.01, 0.1, 1, 10, 100]\n",
    "}\n",
    "\n",
    "# Perform grid search with cross-validation\n",
    "grid_search3 = GridSearchCV(pipeline, hyperparameters, cv=5, n_jobs=-1)\n",
    "grid_search3.fit(X_train, y_train)\n",
    "\n",
    "# Evaluate the performance of the model on the test data\n",
    "y_pred = grid_search3.predict(X_test)\n",
    "accuracy = accuracy_score(y_test, y_pred)\n",
    "precision = precision_score(y_test, y_pred)\n",
    "recall = recall_score(y_test, y_pred)\n",
    "roc_auc = roc_auc_score(y_test, y_pred)\n",
    "fpr, tpr, thresholds = roc_curve(y_test, y_pred)\n",
    "\n",
    "# Plot the ROC curve\n",
    "plt.plot(fpr, tpr, label='ROC curve (area = %0.2f)' % roc_auc)\n",
    "plt.plot([0, 1], [0, 1], 'k--')\n",
    "plt.xlim([0.0, 1.0])\n",
    "plt.ylim([0.0, 1.05])\n",
    "plt.xlabel('False Positive Rate')\n",
    "plt.ylabel('True Positive Rate')\n",
    "plt.title('Receiver operating characteristic')\n",
    "plt.legend(loc=\"lower right\")\n",
    "plt.show()\n",
    "\n",
    "# Print the evaluation metrics\n",
    "print('Accuracy:', accuracy)\n",
    "print('Precision:', precision)\n",
    "print('Recall:', recall)\n"
   ]
  },
  {
   "cell_type": "markdown",
   "metadata": {},
   "source": [
    "Insert conclusions\n",
    "with using PCA before logistic regression there is no much significant difference in performance, rather the performance decreased very little because pca decreases the training data features. However with large difference in input data to logistic regression the model still generates almost similar performance as regular logistic regression"
   ]
  },
  {
   "cell_type": "markdown",
   "metadata": {},
   "source": [
    "# Question 4\n",
    "- Using `X_train` and `y_train`, create a logistic regression model, that includes a pipeline step that uses k-means clustering as a processing step.  \n",
    "- Use grid search and evaluate multiple cluster numbers and regularization strengths using best practices.\n",
    "- Provide a ROC chart and provide accuracy, precision, and recall.  \n",
    "- What is your opinion of the model's performance?"
   ]
  },
  {
   "cell_type": "code",
   "execution_count": 16,
   "metadata": {},
   "outputs": [
    {
     "data": {
      "image/png": "[encoded data removed]",
      "text/plain": [
       "<Figure size 432x288 with 1 Axes>"
      ]
     },
     "metadata": {
      "needs_background": "light"
     },
     "output_type": "display_data"
    },
    {
     "name": "stdout",
     "output_type": "stream",
     "text": [
      "Accuracy: 0.9425\n",
      "Precision: 0.9945054945054945\n",
      "Recall: 0.8916256157635468\n"
     ]
    }
   ],
   "source": [
    "# Insert code\n",
    "\n",
    "\n",
    "# Define the pipeline\n",
    "pipeline = Pipeline([\n",
    "    ('preprocessing', ct),\n",
    "    ('kmeans', KMeans(n_init=2)),\n",
    "    ('log_reg', LogisticRegression())\n",
    "])\n",
    "\n",
    "# Define the hyperparameters to be tuned\n",
    "hyperparameters = {\n",
    "    'kmeans__n_clusters': [2, 3, 4],\n",
    "    'log_reg__C': [0.001, 0.01, 0.1, 1, 10, 100]\n",
    "}\n",
    "\n",
    "# Perform grid search with cross-validation\n",
    "grid_search4 = GridSearchCV(pipeline, hyperparameters, cv=5, n_jobs=-1)\n",
    "grid_search4.fit(X_train, y_train)\n",
    "\n",
    "# Evaluate the performance of the model on the test data\n",
    "y_pred = grid_search4.predict(X_test)\n",
    "accuracy = accuracy_score(y_test, y_pred)\n",
    "precision = precision_score(y_test, y_pred)\n",
    "recall = recall_score(y_test, y_pred)\n",
    "roc_auc = roc_auc_score(y_test, y_pred)\n",
    "fpr, tpr, thresholds = roc_curve(y_test, y_pred)\n",
    "\n",
    "# Plot the ROC curve\n",
    "plt.plot(fpr, tpr, label='ROC curve (area = %0.2f)' % roc_auc)\n",
    "plt.plot([0, 1], [0, 1], 'k--')\n",
    "plt.xlim([0.0, 1.0])\n",
    "plt.ylim([0.0, 1.05])\n",
    "plt.xlabel('False Positive Rate')\n",
    "plt.ylabel('True Positive Rate')\n",
    "plt.title('Receiver operating characteristic')\n",
    "plt.legend(loc=\"lower right\")\n",
    "plt.show()\n",
    "\n",
    "# Print the evaluation metrics\n",
    "print('Accuracy:', accuracy)\n",
    "print('Precision:', precision)\n",
    "print('Recall:', recall)\n"
   ]
  },
  {
   "cell_type": "markdown",
   "metadata": {},
   "source": [
    "Insert conclusions\n",
    "The accuracy and recall both increased when clustered using kmeans, with k-means the data is clustered into similar clusters and then they are classified which increases the performance of the model"
   ]
  },
  {
   "cell_type": "markdown",
   "metadata": {},
   "source": [
    "# Question 5\n",
    "- Which model, based on the results of `Questions 2-4` would you recommend to use?  \n",
    "- Use as much code as necessary to support your choice."
   ]
  },
  {
   "cell_type": "markdown",
   "metadata": {},
   "source": [
    "Insert response, the model in quesstion 4 \n",
    "\n",
    "The model which uses kmeans clustering before logistic regression is better because it gives better results on the test data"
   ]
  },
  {
   "cell_type": "code",
   "execution_count": 17,
   "metadata": {},
   "outputs": [],
   "source": [
    "def print_metrics(model, X_test, y_test):\n",
    "    y_pred = model.predict(X_test)\n",
    "    accuracy = accuracy_score(y_test, y_pred)\n",
    "    precision = precision_score(y_test, y_pred)\n",
    "    recall = recall_score(y_test, y_pred)\n",
    "    roc_auc = roc_auc_score(y_test, y_pred)\n",
    "    print('Accuracy:', accuracy)\n",
    "    print('Precision:', precision)\n",
    "    print('Recall:', recall)\n",
    "    print('ROC AUC:', roc_auc)\n"
   ]
  },
  {
   "cell_type": "code",
   "execution_count": 18,
   "metadata": {},
   "outputs": [
    {
     "name": "stdout",
     "output_type": "stream",
     "text": [
      "Logistic Regression (Question 2):\n",
      "Accuracy: 0.93\n",
      "Precision: 0.9943502824858758\n",
      "Recall: 0.8669950738916257\n",
      "ROC AUC: 0.930959465879823\n",
      "\n",
      "Logistic Regression with PCA (Question 3):\n",
      "Accuracy: 0.93125\n",
      "Precision: 0.9915966386554622\n",
      "Recall: 0.8719211822660099\n",
      "ROC AUC: 0.9321534845340201\n",
      "\n",
      "Logistic Regression with KMeans Clustering (Question 4):\n",
      "Accuracy: 0.9425\n",
      "Precision: 0.9945054945054945\n",
      "Recall: 0.8916256157635468\n",
      "ROC AUC: 0.9432747368157834\n"
     ]
    }
   ],
   "source": [
    "# Evaluate the logistic regression model from Question 2\n",
    "print('Logistic Regression (Question 2):')\n",
    "print_metrics(grid_search2, X_test, y_test)\n",
    "print()\n",
    "\n",
    "# Evaluate the logistic regression model with PCA from Question 3\n",
    "print('Logistic Regression with PCA (Question 3):')\n",
    "print_metrics(grid_search3, X_test, y_test)\n",
    "print()\n",
    "\n",
    "# Evaluate the logistic regression model with KMeans clustering from Question 4\n",
    "print('Logistic Regression with KMeans Clustering (Question 4):')\n",
    "print_metrics(grid_search4, X_test, y_test)\n"
   ]
  }
 ],
 "metadata": {
  "kernelspec": {
   "display_name": "Python 3",
   "language": "python",
   "name": "python3"
  },
  "language_info": {
   "codemirror_mode": {
    "name": "ipython",
    "version": 3
   },
   "file_extension": ".py",
   "mimetype": "text/x-python",
   "name": "python",
   "nbconvert_exporter": "python",
   "pygments_lexer": "ipython3",
   "version": "3.8.5"
  },
  "toc": {
   "base_numbering": 1,
   "nav_menu": {},
   "number_sections": true,
   "sideBar": true,
   "skip_h1_title": false,
   "title_cell": "Table of Contents",
   "title_sidebar": "Contents",
   "toc_cell": false,
   "toc_position": {},
   "toc_section_display": true,
   "toc_window_display": false
  }
 },
 "nbformat": 4,
 "nbformat_minor": 4
}
